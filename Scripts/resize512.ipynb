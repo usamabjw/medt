{
 "cells": [
  {
   "cell_type": "code",
   "execution_count": 1,
   "metadata": {},
   "outputs": [],
   "source": [
    "from PIL import Image\n",
    "import os\n",
    "\n",
    "def resize_images(input_folder, output_folder, new_size=(300, 300)):\n",
    "    # Create the output folder if it doesn't exist\n",
    "    if not os.path.exists(output_folder):\n",
    "        os.makedirs(output_folder)\n",
    "\n",
    "    # Loop through all files in the input folder\n",
    "    for filename in os.listdir(input_folder):\n",
    "        # Check if the file is an image (you might want to add more robust checks)\n",
    "        if filename.lower().endswith(('.png', '.jpg', '.jpeg','.tif')):\n",
    "            # Construct the full file paths\n",
    "            input_path = os.path.join(input_folder, filename)\n",
    "            output_path = os.path.join(output_folder, filename)\n",
    "\n",
    "            # Open the image using PIL\n",
    "            img = Image.open(input_path)\n",
    "\n",
    "            # Resize the image\n",
    "            img_resized = img.resize(new_size)\n",
    "\n",
    "            # Save the resized image to the output folder\n",
    "            img_resized.save(output_path)\n",
    "\n",
    "\n"
   ]
  },
  {
   "cell_type": "code",
   "execution_count": 2,
   "metadata": {},
   "outputs": [],
   "source": [
    "if __name__ == \"__main__\":\n",
    "    # Specify the input and output folders\n",
    "    size=512\n",
    "    new_size = (size, size)\n",
    "    tasks = ['Test','Train','Val']\n",
    "    for task in  tasks:\n",
    "        input_folder1 = f\"{task}/img\"\n",
    "        output_folder1 = f\"{task}/img/resized{size}\"\n",
    "        resize_images(input_folder1, output_folder1, new_size)\n",
    "        input_folder2 = f\"{task}/labelcol\"\n",
    "        output_folder2 = f\"{task}/labelcol/resized{size}\"\n",
    "        resize_images(input_folder2, output_folder2, new_size)\n",
    "\n",
    "        "
   ]
  }
 ],
 "metadata": {
  "kernelspec": {
   "display_name": "Python 3",
   "language": "python",
   "name": "python3"
  },
  "language_info": {
   "codemirror_mode": {
    "name": "ipython",
    "version": 3
   },
   "file_extension": ".py",
   "mimetype": "text/x-python",
   "name": "python",
   "nbconvert_exporter": "python",
   "pygments_lexer": "ipython3",
   "version": "3.10.11"
  }
 },
 "nbformat": 4,
 "nbformat_minor": 2
}
